{
 "cells": [
  {
   "cell_type": "code",
   "execution_count": 1,
   "id": "cfa8699b-4143-4392-ae8b-6e6c210d5bed",
   "metadata": {},
   "outputs": [
    {
     "name": "stdout",
     "output_type": "stream",
     "text": [
      "アクティブな仮想環境のパス: C:\\Users\\yoshi\\AppData\\Local\\Programs\\Python\\Python311\n"
     ]
    }
   ],
   "source": [
    "import sys\n",
    "\n",
    "active_env_path = sys.prefix\n",
    "print(\"アクティブな仮想環境のパス:\", active_env_path)"
   ]
  },
  {
   "cell_type": "code",
   "execution_count": 1,
   "id": "6b749761-10ec-4cba-8912-a7bfb1084472",
   "metadata": {},
   "outputs": [],
   "source": [
    "import streamlit as st \n",
    "import numpy as np\n",
    "import pandas as pd \n",
    "import os\n",
    "os.environ['GOOGLE_APPLICATION_CREDENTIALS'] ='secret.json'"
   ]
  },
  {
   "cell_type": "code",
   "execution_count": 5,
   "id": "338b90d8-b0f9-4cbe-b924-3193eff737fe",
   "metadata": {},
   "outputs": [],
   "source": [
    "import os\n",
    "from google.cloud import texttospeech\n",
    "\n",
    "import io\n",
    "import streamlit as st\n",
    "\n",
    "lang='日本語'\n",
    "gender='defalut'\n",
    "\n",
    "gender_type = {\n",
    "    'defalut': texttospeech.SsmlVoiceGender.SSML_VOICE_GENDER_UNSPECIFIED,\n",
    "    'male': texttospeech.SsmlVoiceGender.MALE,\n",
    "    'female': texttospeech.SsmlVoiceGender.FEMALE,\n",
    "    'neutral': texttospeech.SsmlVoiceGender.NEUTRAL\n",
    "}\n",
    "lang_code = {\n",
    "    '英語': 'en-US',\n",
    "    '日本語': 'ja-JP'\n",
    "}\n",
    "voice = texttospeech.VoiceSelectionParams(\n",
    "    language_code=lang_code[lang], ssml_gender=gender_type[gender]\n",
    ")"
   ]
  },
  {
   "cell_type": "code",
   "execution_count": 7,
   "id": "1656f6f4-8fad-4315-bb24-95c8cb2151e8",
   "metadata": {},
   "outputs": [
    {
     "data": {
      "text/plain": [
       "<SsmlVoiceGender.SSML_VOICE_GENDER_UNSPECIFIED: 0>"
      ]
     },
     "execution_count": 7,
     "metadata": {},
     "output_type": "execute_result"
    }
   ],
   "source": [
    "voice.ssml_gender"
   ]
  },
  {
   "cell_type": "code",
   "execution_count": null,
   "id": "705ee565-42f1-4a38-9713-593a35eab974",
   "metadata": {},
   "outputs": [],
   "source": []
  }
 ],
 "metadata": {
  "kernelspec": {
   "display_name": "Python 3 (ipykernel)",
   "language": "python",
   "name": "python3"
  },
  "language_info": {
   "codemirror_mode": {
    "name": "ipython",
    "version": 3
   },
   "file_extension": ".py",
   "mimetype": "text/x-python",
   "name": "python",
   "nbconvert_exporter": "python",
   "pygments_lexer": "ipython3",
   "version": "3.11.6"
  }
 },
 "nbformat": 4,
 "nbformat_minor": 5
}
