{
 "cells": [
  {
   "cell_type": "code",
   "execution_count": 1,
   "id": "cfa8699b-4143-4392-ae8b-6e6c210d5bed",
   "metadata": {},
   "outputs": [
    {
     "name": "stdout",
     "output_type": "stream",
     "text": [
      "アクティブな仮想環境のパス: C:\\Users\\yoshi\\AppData\\Local\\Programs\\Python\\Python311\n"
     ]
    }
   ],
   "source": [
    "import sys\n",
    "\n",
    "active_env_path = sys.prefix\n",
    "print(\"アクティブな仮想環境のパス:\", active_env_path)"
   ]
  },
  {
   "cell_type": "code",
   "execution_count": null,
   "id": "6b749761-10ec-4cba-8912-a7bfb1084472",
   "metadata": {},
   "outputs": [],
   "source": []
  }
 ],
 "metadata": {
  "kernelspec": {
   "display_name": "Python 3 (ipykernel)",
   "language": "python",
   "name": "python3"
  },
  "language_info": {
   "codemirror_mode": {
    "name": "ipython",
    "version": 3
   },
   "file_extension": ".py",
   "mimetype": "text/x-python",
   "name": "python",
   "nbconvert_exporter": "python",
   "pygments_lexer": "ipython3",
   "version": "3.11.6"
  }
 },
 "nbformat": 4,
 "nbformat_minor": 5
}
