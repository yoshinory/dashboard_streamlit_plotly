{
 "cells": [
  {
   "cell_type": "code",
   "execution_count": 1,
   "id": "7e3196b9-7862-44c7-8cee-a0a961bc15ac",
   "metadata": {},
   "outputs": [
    {
     "name": "stdout",
     "output_type": "stream",
     "text": [
      "アクティブな仮想環境のパス: C:\\Users\\yoshi\\AppData\\Local\\Programs\\Python\\Python311\n"
     ]
    }
   ],
   "source": [
    "import sys\n",
    "\n",
    "active_env_path = sys.prefix\n",
    "print(\"アクティブな仮想環境のパス:\", active_env_path)"
   ]
  },
  {
   "cell_type": "code",
   "execution_count": null,
   "id": "f411819d-dbef-4274-a43b-cf7d16b27e12",
   "metadata": {},
   "outputs": [],
   "source": []
  }
 ],
 "metadata": {
  "kernelspec": {
   "display_name": "Python 3 (ipykernel)",
   "language": "python",
   "name": "python3"
  },
  "language_info": {
   "codemirror_mode": {
    "name": "ipython",
    "version": 3
   },
   "file_extension": ".py",
   "mimetype": "text/x-python",
   "name": "python",
   "nbconvert_exporter": "python",
   "pygments_lexer": "ipython3",
   "version": "3.11.6"
  }
 },
 "nbformat": 4,
 "nbformat_minor": 5
}
